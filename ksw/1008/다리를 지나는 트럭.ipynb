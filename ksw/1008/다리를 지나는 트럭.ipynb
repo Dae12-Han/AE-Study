{
 "cells": [
  {
   "cell_type": "markdown",
   "id": "ebe88404",
   "metadata": {},
   "source": [
    "### 다리를 지나는 트럭\n",
    "\n",
    "https://school.programmers.co.kr/learn/courses/30/lessons/42583"
   ]
  },
  {
   "cell_type": "code",
   "execution_count": null,
   "id": "59d9e8b3",
   "metadata": {},
   "outputs": [],
   "source": [
    "#다리를 지나는 트럭-솔루션1: 실패==> 시간초과\n",
    "\n",
    "def solution(bridge_length, weight, truck_weights):\n",
    "    \n",
    "    bridge=[0 for i in range(bridge_length)]\n",
    "    bridge.pop(0)\n",
    "    bridge.append(truck_weights.pop(0)) #[0,7]\n",
    "    answer = 0\n",
    "    \n",
    "    while(1):\n",
    "        answer+=1\n",
    "        \n",
    "        if sum(bridge)==0:\n",
    "            if len(truck_weights)==0:\n",
    "                break\n",
    "        else:\n",
    "            bridge.pop(0)\n",
    "            \n",
    "            if len(truck_weights)==0:\n",
    "                truck_weights.append(0)\n",
    "            \n",
    "            if (sum(bridge)+truck_weights[0])<=weight:\n",
    "                bridge.append(truck_weights.pop(0))\n",
    "            else:\n",
    "                bridge.append(0)\n",
    "                \n",
    "    return answer"
   ]
  },
  {
   "cell_type": "code",
   "execution_count": 64,
   "id": "b47158f4",
   "metadata": {},
   "outputs": [
    {
     "name": "stdout",
     "output_type": "stream",
     "text": [
      "110\n"
     ]
    }
   ],
   "source": [
    "#해결! -> sum함수 삭제, 변수를 이용해 합산함\n",
    "\n",
    "def solution(bridge_length, weight, truck_weights):\n",
    "    \n",
    "    bridge=[0 for i in range(bridge_length)]\n",
    "    bridge.pop(0)\n",
    "    bridge.append(truck_weights.pop(0)) #[0,7]\n",
    "    answer = 0\n",
    "    bridge_sum=bridge[-1]\n",
    "    \n",
    "    while(1):\n",
    "        answer+=1\n",
    "        \n",
    "        if bridge_sum==0:\n",
    "            if len(truck_weights)==0:\n",
    "                break\n",
    "        else:\n",
    "            bridge_sum-=bridge[0]\n",
    "            bridge.pop(0)\n",
    "            \n",
    "            if len(truck_weights)==0:\n",
    "                truck_weights.append(0)\n",
    "            \n",
    "            if (bridge_sum+truck_weights[0])<=weight:\n",
    "                bridge.append(truck_weights.pop(0))\n",
    "                bridge_sum+=bridge[-1]\n",
    "            else:\n",
    "                bridge.append(0)\n",
    "                \n",
    "    return answer\n",
    "\n",
    "print(solution(100,100,[10,10,10,10,10,10,10,10,10,10]))"
   ]
  },
  {
   "cell_type": "code",
   "execution_count": null,
   "id": "ef9b4ddf",
   "metadata": {},
   "outputs": [],
   "source": []
  },
  {
   "cell_type": "code",
   "execution_count": null,
   "id": "021a1288",
   "metadata": {},
   "outputs": [],
   "source": []
  }
 ],
 "metadata": {
  "kernelspec": {
   "display_name": "Python 3 (ipykernel)",
   "language": "python",
   "name": "python3"
  },
  "language_info": {
   "codemirror_mode": {
    "name": "ipython",
    "version": 3
   },
   "file_extension": ".py",
   "mimetype": "text/x-python",
   "name": "python",
   "nbconvert_exporter": "python",
   "pygments_lexer": "ipython3",
   "version": "3.11.4"
  }
 },
 "nbformat": 4,
 "nbformat_minor": 5
}
