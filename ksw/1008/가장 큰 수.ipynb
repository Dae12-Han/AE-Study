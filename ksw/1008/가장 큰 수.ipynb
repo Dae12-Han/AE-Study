{
 "cells": [
  {
   "cell_type": "markdown",
   "id": "6cdbe372",
   "metadata": {},
   "source": [
    "### 가장 큰 수\n",
    "\n",
    "https://school.programmers.co.kr/learn/courses/30/lessons/42746"
   ]
  },
  {
   "cell_type": "code",
   "execution_count": 70,
   "id": "4f7ad3af",
   "metadata": {},
   "outputs": [
    {
     "name": "stdout",
     "output_type": "stream",
     "text": [
      "121312\n",
      "9534330\n",
      "000\n"
     ]
    }
   ],
   "source": [
    "#가장큰수-솔루션1: 실패==> 시간초과\n",
    "\n",
    "def solution(num):\n",
    "    ans=[]\n",
    "    answer=''\n",
    "    \n",
    "    for i in range(len(num)):\n",
    "        n=num[i]\n",
    "        \n",
    "        if len(ans)<=0:\n",
    "            ans.append(n)\n",
    "            \n",
    "        else:\n",
    "            for i in range(len(ans)):\n",
    "                if int(str(n)+str(ans[i])) > int(str(ans[i])+str(n)):\n",
    "                    ans.insert(i,n)\n",
    "                    break\n",
    "                else:\n",
    "                    if i==len(ans)-1: #만약 마지막이라면\n",
    "                        ans.append(n)\n",
    "                        \n",
    "    for i in ans:\n",
    "        answer+=str(i)\n",
    "    \n",
    "    return answer\n",
    "\n",
    "print(solution([12,1213]))\n",
    "print(solution([3, 30, 34, 5, 9]))\n",
    "print(solution([0,0,0])) # 틀린 이유"
   ]
  },
  {
   "cell_type": "code",
   "execution_count": null,
   "id": "ef9b4ddf",
   "metadata": {},
   "outputs": [],
   "source": []
  },
  {
   "cell_type": "code",
   "execution_count": null,
   "id": "021a1288",
   "metadata": {},
   "outputs": [],
   "source": []
  }
 ],
 "metadata": {
  "kernelspec": {
   "display_name": "Python 3 (ipykernel)",
   "language": "python",
   "name": "python3"
  },
  "language_info": {
   "codemirror_mode": {
    "name": "ipython",
    "version": 3
   },
   "file_extension": ".py",
   "mimetype": "text/x-python",
   "name": "python",
   "nbconvert_exporter": "python",
   "pygments_lexer": "ipython3",
   "version": "3.11.4"
  }
 },
 "nbformat": 4,
 "nbformat_minor": 5
}
